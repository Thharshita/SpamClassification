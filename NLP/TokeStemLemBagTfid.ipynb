{
 "cells": [
  {
   "cell_type": "code",
   "execution_count": 1,
   "id": "95aba799",
   "metadata": {},
   "outputs": [
    {
     "name": "stdout",
     "output_type": "stream",
     "text": [
      "Requirement already satisfied: nltk in c:\\program files\\python38\\lib\\site-packages (3.8.1)\n",
      "Requirement already satisfied: click in c:\\program files\\python38\\lib\\site-packages (from nltk) (8.1.3)\n",
      "Requirement already satisfied: joblib in c:\\program files\\python38\\lib\\site-packages (from nltk) (1.2.0)\n",
      "Requirement already satisfied: regex>=2021.8.3 in c:\\program files\\python38\\lib\\site-packages (from nltk) (2023.6.3)\n",
      "Requirement already satisfied: tqdm in c:\\program files\\python38\\lib\\site-packages (from nltk) (4.65.0)\n",
      "Requirement already satisfied: colorama in c:\\program files\\python38\\lib\\site-packages (from click->nltk) (0.4.6)\n"
     ]
    }
   ],
   "source": [
    "!pip install nltk"
   ]
  },
  {
   "cell_type": "code",
   "execution_count": 3,
   "id": "4aeebd29",
   "metadata": {
    "scrolled": true
   },
   "outputs": [
    {
     "name": "stdout",
     "output_type": "stream",
     "text": [
      "showing info https://raw.githubusercontent.com/nltk/nltk_data/gh-pages/index.xml\n",
      "NLTK Downloader\n",
      "---------------------------------------------------------------------------\n",
      "    d) Download   l) List    u) Update   c) Config   h) Help   q) Quit\n",
      "---------------------------------------------------------------------------\n",
      "Downloader> d\n",
      "\n",
      "Download which package (l=list; x=cancel)?\n",
      "  Identifier> l\n",
      "Packages:\n",
      "Error connecting to server: [WinError 10060] A connection attempt failed because the connected party did not properly respond after a period of time, or established connection failed because connected host has failed to respond\n",
      "\n",
      "---------------------------------------------------------------------------\n",
      "    d) Download   l) List    u) Update   c) Config   h) Help   q) Quit\n",
      "---------------------------------------------------------------------------\n",
      "Downloader> q\n"
     ]
    },
    {
     "data": {
      "text/plain": [
       "True"
      ]
     },
     "execution_count": 3,
     "metadata": {},
     "output_type": "execute_result"
    }
   ],
   "source": [
    "import nltk\n",
    "nltk.download()"
   ]
  },
  {
   "cell_type": "code",
   "execution_count": 6,
   "id": "153e5669",
   "metadata": {},
   "outputs": [],
   "source": [
    "paragraph=\"\"\"he Devas and Asuras were cousins who were always at war. The Devas ruled Devalok, the world above Earth. The Asuras lived in the world below Earth, called Paatal. The Asuras grew stronger after sunset. So, the Asuras always attacked their cousins at night.\n",
    "\n",
    "As the sun rose, the Devas grew stronger. They would be ready to attack the Asuras. But the Asuras would disappear! The Devas would search for them in heaven, earth and, below. But the Asuras could not be found anywhere. \n",
    "\n",
    "At last the Devas saw the Asuras’ footprints leading to the ocean. Indra, lord of the Devas, shouted, “They are hiding here in the ocean!” \n",
    "\n",
    "Vayu, the Wind God, shook in excitement, “Let’s get them!” \n",
    "\n",
    "Agni, the Fire God hissed, “But can we fight them under water?”\n",
    "\n",
    "Indra looked around. He saw Sage Agasthya sitting on the beach, eyes closed in meditation. Indra went up to him, bowed, and sought his help. Agasthya was a powerful sage, who liked the Devas. He agreed to help them. \"\"\""
   ]
  },
  {
   "cell_type": "code",
   "execution_count": 12,
   "id": "0b5e5584",
   "metadata": {},
   "outputs": [
    {
     "name": "stdout",
     "output_type": "stream",
     "text": [
      "['he Devas and Asuras were cousins who were always at war.', 'The Devas ruled Devalok, the world above Earth.', 'The Asuras lived in the world below Earth, called Paatal.', 'The Asuras grew stronger after sunset.', 'So, the Asuras always attacked their cousins at night.', 'As the sun rose, the Devas grew stronger.', 'They would be ready to attack the Asuras.', 'But the Asuras would disappear!', 'The Devas would search for them in heaven, earth and, below.', 'But the Asuras could not be found anywhere.', 'At last the Devas saw the Asuras’ footprints leading to the ocean.', 'Indra, lord of the Devas, shouted, “They are hiding here in the ocean!” \\n\\nVayu, the Wind God, shook in excitement, “Let’s get them!” \\n\\nAgni, the Fire God hissed, “But can we fight them under water?”\\n\\nIndra looked around.', 'He saw Sage Agasthya sitting on the beach, eyes closed in meditation.', 'Indra went up to him, bowed, and sought his help.', 'Agasthya was a powerful sage, who liked the Devas.', 'He agreed to help them.']\n",
      "['he', 'Devas', 'and', 'Asuras', 'were', 'cousins', 'who', 'were', 'always', 'at', 'war', '.', 'The', 'Devas', 'ruled', 'Devalok', ',', 'the', 'world', 'above', 'Earth', '.', 'The', 'Asuras', 'lived', 'in', 'the', 'world', 'below', 'Earth', ',', 'called', 'Paatal', '.', 'The', 'Asuras', 'grew', 'stronger', 'after', 'sunset', '.', 'So', ',', 'the', 'Asuras', 'always', 'attacked', 'their', 'cousins', 'at', 'night', '.', 'As', 'the', 'sun', 'rose', ',', 'the', 'Devas', 'grew', 'stronger', '.', 'They', 'would', 'be', 'ready', 'to', 'attack', 'the', 'Asuras', '.', 'But', 'the', 'Asuras', 'would', 'disappear', '!', 'The', 'Devas', 'would', 'search', 'for', 'them', 'in', 'heaven', ',', 'earth', 'and', ',', 'below', '.', 'But', 'the', 'Asuras', 'could', 'not', 'be', 'found', 'anywhere', '.', 'At', 'last', 'the', 'Devas', 'saw', 'the', 'Asuras', '’', 'footprints', 'leading', 'to', 'the', 'ocean', '.', 'Indra', ',', 'lord', 'of', 'the', 'Devas', ',', 'shouted', ',', '“', 'They', 'are', 'hiding', 'here', 'in', 'the', 'ocean', '!', '”', 'Vayu', ',', 'the', 'Wind', 'God', ',', 'shook', 'in', 'excitement', ',', '“', 'Let', '’', 's', 'get', 'them', '!', '”', 'Agni', ',', 'the', 'Fire', 'God', 'hissed', ',', '“', 'But', 'can', 'we', 'fight', 'them', 'under', 'water', '?', '”', 'Indra', 'looked', 'around', '.', 'He', 'saw', 'Sage', 'Agasthya', 'sitting', 'on', 'the', 'beach', ',', 'eyes', 'closed', 'in', 'meditation', '.', 'Indra', 'went', 'up', 'to', 'him', ',', 'bowed', ',', 'and', 'sought', 'his', 'help', '.', 'Agasthya', 'was', 'a', 'powerful', 'sage', ',', 'who', 'liked', 'the', 'Devas', '.', 'He', 'agreed', 'to', 'help', 'them', '.']\n"
     ]
    }
   ],
   "source": [
    "sentences= nltk.sent_tokenize(paragraph)\n",
    "print(sentences)\n",
    "words= nltk.word_tokenize(paragraph)\n",
    "print(words)"
   ]
  },
  {
   "cell_type": "markdown",
   "id": "f30cbebc",
   "metadata": {},
   "source": [
    "# STEMMING"
   ]
  },
  {
   "cell_type": "code",
   "execution_count": 13,
   "id": "1112a0db",
   "metadata": {},
   "outputs": [],
   "source": [
    "from nltk.stem import PorterStemmer\n",
    "from nltk.corpus import stopwords"
   ]
  },
  {
   "cell_type": "code",
   "execution_count": 16,
   "id": "fcf2fffc",
   "metadata": {},
   "outputs": [],
   "source": [
    "sentences= nltk.sent_tokenize(paragraph)\n",
    "stemmer=PorterStemmer()"
   ]
  },
  {
   "cell_type": "code",
   "execution_count": 19,
   "id": "6d8f4796",
   "metadata": {},
   "outputs": [
    {
     "name": "stdout",
     "output_type": "stream",
     "text": [
      "['deva asura cousin alway war .', 'deva rule devalok , world earth .', 'asura live world earth , call paatal .', 'asura grew stronger sunset .', ', asura alway attack cousin night .', 'sun rose , deva grew stronger .', 'would readi attack asura .', 'asura would disappear !', 'deva would search heaven , earth , .', 'asura could found anywh .', 'last deva saw asura ’ footprint lead ocean .', 'indra , lord deva , shout , “ hide ocean ! ” vayu , wind god , shook excit , “ let ’ get ! ” agni , fire god hiss , “ fight water ? ” indra look around .', 'saw sage agasthya sit beach , eye close medit .', 'indra went , bow , sought help .', 'agasthya power sage , like deva .', 'agr help .']\n"
     ]
    }
   ],
   "source": [
    "for i in range(len(sentences)):\n",
    "    words=nltk.word_tokenize(sentences[i])\n",
    "    words=[stemmer.stem(word) for word in words if word not in set(stopwords.words('english'))]\n",
    "    sentences[i]=' '.join(words)\n",
    "    \n",
    "print(sentences)"
   ]
  },
  {
   "cell_type": "markdown",
   "id": "fa3742f2",
   "metadata": {},
   "source": [
    "# Lammetization"
   ]
  },
  {
   "cell_type": "code",
   "execution_count": 26,
   "id": "4b81ad53",
   "metadata": {},
   "outputs": [
    {
     "name": "stdout",
     "output_type": "stream",
     "text": [
      "['Devas Asuras cousin always war .', 'The Devas ruled Devalok , world Earth .', 'The Asuras lived world Earth , called Paatal .', 'The Asuras grew stronger sunset .', 'So , Asuras always attacked cousin night .', 'As sun rose , Devas grew stronger .', 'They would ready attack Asuras .', 'But Asuras would disappear !', 'The Devas would search heaven , earth , .', 'But Asuras could found anywhere .', 'At last Devas saw Asuras ’ footprint leading ocean .', 'Indra , lord Devas , shouted , “ They hiding ocean ! ” Vayu , Wind God , shook excitement , “ Let ’ get ! ” Agni , Fire God hissed , “ But fight water ? ” Indra looked around .', 'He saw Sage Agasthya sitting beach , eye closed meditation .', 'Indra went , bowed , sought help .', 'Agasthya powerful sage , liked Devas .', 'He agreed help .']\n"
     ]
    }
   ],
   "source": [
    "from nltk.stem import WordNetLemmatizer\n",
    "from nltk.corpus import stopwords\n",
    "\n",
    "\n",
    "sentences= nltk.sent_tokenize(paragraph)\n",
    "lemmatizer=WordNetLemmatizer()\n",
    "\n",
    "\n",
    "\n",
    "for i in range(len(sentences)):\n",
    "    words= nltk.word_tokenize(sentences[i])\n",
    "    words= [lemmatizer.lemmatize(word) for word in words if word not in set(stopwords.words('english'))]\n",
    "    sentences[i]= ' '.join(words)\n",
    "print(sentences)"
   ]
  },
  {
   "cell_type": "markdown",
   "id": "362c0909",
   "metadata": {},
   "source": [
    "# BAG OF WOORDS"
   ]
  },
  {
   "cell_type": "code",
   "execution_count": 1,
   "id": "50f4a7c8",
   "metadata": {},
   "outputs": [],
   "source": [
    "#cleaning the text"
   ]
  },
  {
   "cell_type": "code",
   "execution_count": 24,
   "id": "7da3362e",
   "metadata": {},
   "outputs": [
    {
     "name": "stdout",
     "output_type": "stream",
     "text": [
      "['farhan qureshi r madhavan raju rastogi sharman joshi rancchodda rancho shyamalda chanchad aamir khan three engin student share room hostel imperi colleg engin one best colleg india', 'farhan raju averag student modest background rancho rich famili', 'farhan want becom wildlif photograph join engin colleg fulfil father wish', 'raju hand want uplift famili fortun', 'rancho wealthi geniu studi sheer joy', 'howev rancho passion knowledg take apart build machin rather convent obsess student exam rank', 'differ approach rancho incur wrath dean colleg professor viru sahastrabudhh viru boman irani', 'rancho irrit lectur give creativ unorthodox answer confront viru fellow student joy lobo hang dormitori room', 'joy request extens major project compassion groundshi father suffer strokebut viru refus say complet unmov son accident death hit train', 'rancho denounc rat race dog eat dog mindless rote learn mental institut blame lobo death', 'threaten rancho talent free spirit viru label idiot attempt number occas destroy friendship farhan raju warn parent steer clear rancho', 'contrast viru model student chatur ramalingam silenc omi vaidya see high rank prestigi colleg ticket higher social statu corpor power therefor wealth', 'chatur conform expect system', 'rancho humili chatur award honour make speech award ceremoni substitut obscen text written librarian', 'expect chatur mindlessli memoris speech without notic anyth amiss partli aid lack knowledg hindi', 'speech becom laugh stock audienc infuri author process', 'meanwhil rancho also fall love viru medic student daughter pia kareena kapoor raju farhan crash sister wed banquet order get free meal process infuri viru', 'meanwhil three student continu anger viru although rancho continu come first everi exam chatur alway second farhan raju inevit last two posit', 'tension come head three friend alreadi drunk break viru hous night allow rancho propos pia urin door insid compound run away viru sens intrud', 'next day viru threaten expel raju lest talk two', 'unabl choos betray friend let famili raju jump rd floor window land courtyard extens care pia roommat awak coma', 'experi chang farhan raju adopt rancho outlook', 'farhan decid pursu love photographi raju take unexpect approach interview corpor job', 'attend plaster wheelchair give seri non conform frank answer', 'howev viru unsympathet vow make final exam hard possibl raju unabl graduat', 'pia hear angrili confront viru give ruthless repli give student denounc way rancho suicid lobo', 'pia reveal viru son brother kill accid commit suicid front train left letter viru forc pursu career engin love literatur viru alway mention unsympathet fail son ice entranc exam everi new intak ice student', 'pia walk famili home take viru spare key', 'tell rancho exam farhan break viru offic steal exam give raju new found attitud unconcern prospect fail refus cheat throw paper away', 'howev viru catch trio expel spot', 'howev earn repriev viru pregnant elder daughter mona mona singh goe labour time', 'heavi storm cut power traffic pia still self impos exil instruct rancho deliv babi colleg common room via voip rancho restor power use car batteri power invert rancho dream viru mock', 'rancho deliv babi help cobbl togeth vacuum extractor', 'babi appar stillborn rancho resuscit', 'viru reconcil rancho friend allow take final exam graduat', 'rancho come first award viru pen professor keep decad find brilliant enough student gift', 'stori frame intermitt flashback present day ten year chatur vow reveng rancho embarrass speech night promis becom success rancho decad later', 'lost contact rancho disappear graduat parti went seclus raju farhan begin journey find', 'join chatur wealthi success businessman join brazenli confid surpass rancho', 'chatur also look seal deal famou scientist prospect busi associ name phunsukh wangdu', 'chatur see wangdu hundr patent ticket social prestig', 'find rancho hous walk father funer find complet differ rancho jaav jaffrey', 'accus new man steal friend ident profit intellect host pull gun farhan raju turn tabl seiz father ash threaten flush toilet', 'household capitul say friend destitut servant boy love learn real rancho lazi wealthi child dislik studi famili agre let servant boy studi rancho place instead labour', 'return real rancho would pocket qualif benefit thereof imperson would sever contact world start new life', 'real rancho reveal imperson schoolteach ladakh', 'raju farhan find pia take wed day suha perform trick materi possess raju turn ceremoni disguis groom elop pia public', 'arriv ladakh see group enthusiast ladakhi children motiv love knowledg', 'pia fake rancho rekindl love chatur mock abus rancho schoolteach walk away', 'friend ask real name reveal phunsukh wangdu phone chatur turn back turn around meet prospect busi partner', 'chatur horrifi fall knee accept defeat continu plead case phunsukh establish busi relationship']\n"
     ]
    }
   ],
   "source": [
    "paragraph=\"\"\"Farhan Qureshi (R. Madhavan), Raju Rastogi (Sharman Joshi), and Rancchoddas \"Rancho\" Shyamaldas Chanchad (Aamir Khan) are three engineering students who share a room in a hostel at the Imperial College of Engineering, one of the best colleges in India. While Farhan and Raju are average students from modest backgrounds, Rancho is from a rich family. Farhan wants to become a wildlife photographer, but has joined engineering college to fulfil his father's wish. Raju on the other hand wants to uplift his family fortunes. Rancho is a wealthy genius who studies for the sheer joy of it. However, Rancho's passion is for knowledge and taking apart and building machines rather than the conventional obsession of the other students with exam ranks. With his different approach Rancho incurs the wrath of dean of college, Professor Viru Sahastrabudhhe (ViruS) (Boman Irani). Rancho irritates his lecturers by giving creative and unorthodox answers, and confronts ViruS after fellow student Joy Lobo hangs himself in his dormitory room. Joy had requested an extension on his major project on compassionate groundshis father had suffered a strokebut ViruS refused, saying that he himself was completely unmoved by his own son's accidental death after being hit by a train. Rancho denounces the rat race, dog-eat-dog, mindless rote learning mentality of the institution, blaming it for Lobo's death.\n",
    "\n",
    "Threatened by Rancho's talent and free spirit, ViruS labels him an \"idiot\" and attempts on a number of occasions to destroy his friendship with Farhan and Raju, warning them and their parents to steer clear of Rancho. In contrast, ViruS model student is Chatur Ramalingam or \"Silencer\", (Omi Vaidya) who sees a high rank at the prestigious college as his ticket to higher social status, corporate power, and therefore wealth. Chatur conforms to the expectations of the system. Rancho humiliates Chatur, who is awarded the honour of making a speech at an award ceremony, by substituting obscenities into the text, which has been written by the librarian. As expected, Chatur mindlessly memorises the speech, without noticing that anything is amiss, partly aided by his lack of knowledge on Hindi. His speech becomes the laughing stock of the audience, infuriating the authorities in the process.\n",
    "\n",
    "Meanwhile, Rancho also falls in love with ViruS' medical student daughter Pia (Kareena Kapoor) when he, Raju and Farhan crash her sister's wedding banquet in order to get a free meal, in the process further infuriating ViruS.\n",
    "\n",
    "Meanwhile, the three students continue to anger ViruS, although Rancho continues to come first in every exam, while Chatur is always second, and Farhan and Raju are inevitably in the last two positions. The tensions come to a head when the three friends, who are already drunk, break into ViruS's house at night to allow Rancho to propose to Pia, and then urinate on a door inside the compound before running away when ViruS senses intruders. The next day, ViruS threatens to expel Raju lest he talks on the other two. Unable to choose between betraying his friend or letting down his family, Raju jumps out of the 3rd floor window and lands on a courtyard, but after extensive care from Pia and his roommates, awakes from a coma.\n",
    "\n",
    "The experience has changed Farhan and Raju, and they adopt Rancho's outlook. Farhan decides to pursue his love of photography, while Raju takes an unexpected approach for an interview for a corporate job. He attends in plaster and a wheelchair and gives a series of non-conformal and frank answers. However, ViruS is unsympathetic and vows to make the final exam as hard as possible so that Raju is unable to graduate. Pia hears him and angrily confronts him, and when ViruS gives the same ruthless reply he gives to his students, she denounces him in the same way that Rancho did over the suicide of Lobo. Pia reveals that Viru's son and her brother was not killed in an accident but committed suicide in front of a train and left a letter because ViruS had forced him to pursue a career in engineering over his love for literature; ViruS always mentioned that he unsympathetically failed his son on the ICE entrance exams over and over to every new intake of ICE students. After this, Pia walks out on the family home, and takes ViruS's spare keys with her. She tells Rancho of the exam, and he and Farhan break into ViruS's office and steals the exam and give it to Raju, who with his new-found attitude, is unconcerned with the prospect of failing, and refuses to cheat and throws the paper away. However, ViruS catches the trio and expels them on the spot. However, they earn a reprieve when Viru's pregnant elder daughter Mona (Mona Singh) goes into labour at the same time. A heavy storm cuts all power and traffic, and Pia is still in self-imposed exile, so she instructs Rancho to deliver the baby in the college common room via VOIP, after Rancho restores power using car batteries and a power inverter that Rancho had dreamed up and ViruS had mocked. Rancho then delivers the baby with the help of a cobbled-together Vacuum extractor.\n",
    "\n",
    "After the baby is apparently stillborn, Rancho resuscitates it. ViruS reconciles with Rancho and his friends and allows them to take their final exams and they graduate. Rancho comes first and is awarded ViruS's pen, which the professor had been keeping for decades before finding a brilliant enough student to gift it to.\n",
    "\n",
    "Their story is framed as intermittent flashbacks from the present day, ten years after Chatur vowed revenge on Rancho for embarrassing him at the speech night and promised to become more successful than Rancho a decade later. Having lost contact with Rancho, who disappeared during the graduation party and went into seclusion, Raju and Farhan begin a journey to find him. They are joined by Chatur, now a wealthy and successful businessman, who joins them, brazenly confident that he has surpassed Rancho. Chatur is also looking to seal a deal with a famous scientist and prospective business associate named Phunsukh Wangdu. Chatur sees Wangdu, who has hundreds of patents, as his ticket to further social prestige. When they find Rancho's house, they walk into his father's funeral, and find a completely different Rancho Jaaved Jaffrey. After accusing the new man of stealing their friend's identity and profiting from his intellect, the host pulls a gun on them, but Farhan and Raju turn the tables by seizing the father's ashes and threatening to flush them down the toilet. The householder capitulates and says that their friend was a destitute servant boy who loved learning, while he, the real Rancho, was a lazy wealthy child who disliked study, so the family agreed to let the servant boy study in Rancho's place instead of labouring. In return, the real Rancho would pocket the qualifications and the benefits thereof, while the impersonator would sever all contact with the world and start a new life. The real Rancho reveals that his impersonator is now a schoolteacher in Ladakh.\n",
    "\n",
    "Raju and Farhan then find Pia, and take her from her wedding day to Suhas by performing the same tricks with his material possessions, and having Raju turn up to the ceremony disguised as the groom and eloping with Pia in public. When they arrive in Ladakh, they see a group of enthusiastic Ladakhi children who are motivated by love of knowledge. Pia and the fake Rancho rekindle their love, while Chatur mocks and abuses Rancho the schoolteacher before walking away. When his friends ask what his real name is, he reveals that it Phunsukh Wangdu and phones Chatur, who has turned his back, to turn around and meet his prospective business partner. Chatur is horrified and falls to his knees, accepts his defeat and continues to plead his case with Phunsukh to establish the business relationship he was after.\"\"\"\n",
    "\n",
    "\n",
    "\n",
    "\n",
    "\n",
    "\n",
    "\n",
    "\n",
    "\n",
    "\n",
    "\n",
    "import re\n",
    "from nltk.corpus import stopwords\n",
    "from nltk.stem.porter import PorterStemmer\n",
    "from nltk.stem import WordNetLemmatizer\n",
    "\n",
    "\n",
    "stemmer= PorterStemmer()\n",
    "lemmatizer= WordNetLemmatizer()\n",
    "sentences= nltk.sent_tokenize(paragraph)\n",
    "# print(len(sentences))\n",
    "\n",
    "# print(sentences)\n",
    "\n",
    "# corpus=[]\n",
    "# for i in range (len(sentences)):\n",
    "#     review= re.sub('[^a-zA-Z]',' ', sentences[i])\n",
    "#     review= review.lower()\n",
    "#     review= review.split() #here we r getting list of words\n",
    "#     review= [stemmer.stem(word) for word in review if word not in set(stopwords.words('English'))]\n",
    "#     review= ' '.join(review)\n",
    "#     corpus.append(review)\n",
    "    \n",
    "# print(corpus)\n",
    "    \n",
    "   \n",
    "    \n",
    "    "
   ]
  },
  {
   "cell_type": "code",
   "execution_count": 23,
   "id": "cc3ef85c",
   "metadata": {},
   "outputs": [
    {
     "name": "stdout",
     "output_type": "stream",
     "text": [
      "['farhan qureshi r madhavan raju rastogi sharman joshi rancchoddas rancho shyamaldas chanchad aamir khan three engineering student share room hostel imperial college engineering one best college india', 'farhan raju average student modest background rancho rich family', 'farhan want become wildlife photographer joined engineering college fulfil father wish', 'raju hand want uplift family fortune', 'rancho wealthy genius study sheer joy', 'however rancho passion knowledge taking apart building machine rather conventional obsession student exam rank', 'different approach rancho incurs wrath dean college professor viru sahastrabudhhe virus boman irani', 'rancho irritates lecturer giving creative unorthodox answer confronts virus fellow student joy lobo hang dormitory room', 'joy requested extension major project compassionate groundshis father suffered strokebut virus refused saying completely unmoved son accidental death hit train', 'rancho denounces rat race dog eat dog mindless rote learning mentality institution blaming lobo death', 'threatened rancho talent free spirit virus label idiot attempt number occasion destroy friendship farhan raju warning parent steer clear rancho', 'contrast virus model student chatur ramalingam silencer omi vaidya see high rank prestigious college ticket higher social status corporate power therefore wealth', 'chatur conforms expectation system', 'rancho humiliates chatur awarded honour making speech award ceremony substituting obscenity text written librarian', 'expected chatur mindlessly memorises speech without noticing anything amiss partly aided lack knowledge hindi', 'speech becomes laughing stock audience infuriating authority process', 'meanwhile rancho also fall love virus medical student daughter pia kareena kapoor raju farhan crash sister wedding banquet order get free meal process infuriating virus', 'meanwhile three student continue anger virus although rancho continues come first every exam chatur always second farhan raju inevitably last two position', 'tension come head three friend already drunk break virus house night allow rancho propose pia urinate door inside compound running away virus sens intruder', 'next day virus threatens expel raju lest talk two', 'unable choose betraying friend letting family raju jump rd floor window land courtyard extensive care pia roommate awakes coma', 'experience changed farhan raju adopt rancho outlook', 'farhan decides pursue love photography raju take unexpected approach interview corporate job', 'attends plaster wheelchair give series non conformal frank answer', 'however virus unsympathetic vow make final exam hard possible raju unable graduate', 'pia hears angrily confronts virus give ruthless reply give student denounces way rancho suicide lobo', 'pia reveals viru son brother killed accident committed suicide front train left letter virus forced pursue career engineering love literature virus always mentioned unsympathetically failed son ice entrance exam every new intake ice student', 'pia walk family home take virus spare key', 'tell rancho exam farhan break virus office steal exam give raju new found attitude unconcerned prospect failing refuse cheat throw paper away', 'however virus catch trio expels spot', 'however earn reprieve viru pregnant elder daughter mona mona singh go labour time', 'heavy storm cut power traffic pia still self imposed exile instructs rancho deliver baby college common room via voip rancho restores power using car battery power inverter rancho dreamed virus mocked', 'rancho delivers baby help cobbled together vacuum extractor', 'baby apparently stillborn rancho resuscitates', 'virus reconciles rancho friend allows take final exam graduate', 'rancho come first awarded virus pen professor keeping decade finding brilliant enough student gift', 'story framed intermittent flashback present day ten year chatur vowed revenge rancho embarrassing speech night promised become successful rancho decade later', 'lost contact rancho disappeared graduation party went seclusion raju farhan begin journey find', 'joined chatur wealthy successful businessman join brazenly confident surpassed rancho', 'chatur also looking seal deal famous scientist prospective business associate named phunsukh wangdu', 'chatur see wangdu hundred patent ticket social prestige', 'find rancho house walk father funeral find completely different rancho jaaved jaffrey', 'accusing new man stealing friend identity profiting intellect host pull gun farhan raju turn table seizing father ash threatening flush toilet', 'householder capitulates say friend destitute servant boy loved learning real rancho lazy wealthy child disliked study family agreed let servant boy study rancho place instead labouring', 'return real rancho would pocket qualification benefit thereof impersonator would sever contact world start new life', 'real rancho reveals impersonator schoolteacher ladakh', 'raju farhan find pia take wedding day suhas performing trick material possession raju turn ceremony disguised groom eloping pia public', 'arrive ladakh see group enthusiastic ladakhi child motivated love knowledge', 'pia fake rancho rekindle love chatur mock abuse rancho schoolteacher walking away', 'friend ask real name reveals phunsukh wangdu phone chatur turned back turn around meet prospective business partner', 'chatur horrified fall knee accepts defeat continues plead case phunsukh establish business relationship']\n"
     ]
    }
   ],
   "source": [
    "corpus=[]\n",
    "for i in range (len(sentences)):\n",
    "    review= re.sub('[^a-zA-Z]',' ', sentences[i])\n",
    "    review= review.lower()\n",
    "    review= review.split() #here we r getting list of words\n",
    "    review= [lemmatizer.lemmatize(word) for word in review if word not in set(stopwords.words('English'))]\n",
    "    review= ' '.join(review)\n",
    "    corpus.append(review)\n",
    "    \n",
    "print(corpus)\n",
    "    \n",
    "   \n",
    "    "
   ]
  },
  {
   "cell_type": "markdown",
   "id": "e53a5a61",
   "metadata": {},
   "source": [
    "# Create a bag of Words"
   ]
  },
  {
   "cell_type": "code",
   "execution_count": 28,
   "id": "4e3332ec",
   "metadata": {},
   "outputs": [
    {
     "name": "stdout",
     "output_type": "stream",
     "text": [
      "Requirement already satisfied: scikit-learn in c:\\program files\\python38\\lib\\site-packages (1.2.2)\n",
      "Requirement already satisfied: numpy>=1.17.3 in c:\\program files\\python38\\lib\\site-packages (from scikit-learn) (1.24.3)\n",
      "Requirement already satisfied: scipy>=1.3.2 in c:\\program files\\python38\\lib\\site-packages (from scikit-learn) (1.10.1)\n",
      "Requirement already satisfied: joblib>=1.1.1 in c:\\program files\\python38\\lib\\site-packages (from scikit-learn) (1.2.0)\n",
      "Requirement already satisfied: threadpoolctl>=2.0.0 in c:\\program files\\python38\\lib\\site-packages (from scikit-learn) (3.1.0)\n"
     ]
    }
   ],
   "source": [
    "\n",
    "!pip install scikit-learn\n",
    "\n",
    "from sklearn.feature_extraction.text import CountVectorizer \n",
    "cv= CountVectorizer()\n",
    "x= cv.fit_transform(corpus).toarray()"
   ]
  },
  {
   "cell_type": "code",
   "execution_count": 29,
   "id": "62b6b396",
   "metadata": {},
   "outputs": [
    {
     "name": "stdout",
     "output_type": "stream",
     "text": [
      "[[1 0 0 ... 0 0 0]\n",
      " [0 0 0 ... 0 0 0]\n",
      " [0 0 0 ... 0 0 0]\n",
      " ...\n",
      " [0 1 0 ... 0 0 0]\n",
      " [0 0 0 ... 0 0 0]\n",
      " [0 0 1 ... 0 0 0]]\n"
     ]
    }
   ],
   "source": [
    "print(x)"
   ]
  },
  {
   "cell_type": "code",
   "execution_count": 31,
   "id": "c1175f9d",
   "metadata": {},
   "outputs": [
    {
     "data": {
      "text/plain": [
       "(51, 453)"
      ]
     },
     "execution_count": 31,
     "metadata": {},
     "output_type": "execute_result"
    }
   ],
   "source": [
    "x.shape"
   ]
  },
  {
   "cell_type": "markdown",
   "id": "46394c4c",
   "metadata": {},
   "source": [
    "# TF-IDF"
   ]
  },
  {
   "cell_type": "code",
   "execution_count": 35,
   "id": "2b92d297",
   "metadata": {},
   "outputs": [
    {
     "name": "stdout",
     "output_type": "stream",
     "text": [
      "[[0.19054482 0.         0.         ... 0.         0.         0.        ]\n",
      " [0.         0.         0.         ... 0.         0.         0.        ]\n",
      " [0.         0.         0.         ... 0.         0.         0.        ]\n",
      " ...\n",
      " [0.         0.         0.36489137 ... 0.         0.         0.        ]\n",
      " [0.         0.         0.         ... 0.         0.         0.        ]\n",
      " [0.         0.         0.         ... 0.         0.         0.        ]]\n"
     ]
    }
   ],
   "source": [
    "import nltk\n",
    "from nltk.corpus import stopwords\n",
    "from nltk.stem import PorterStemmer\n",
    "from nltk.stem import WordNetLemmatizer\n",
    "\n",
    "\n",
    "\n",
    "lemmatizer= WordNetLemmatizer()\n",
    "sentences= nltk.sent_tokenize(paragraph)\n",
    "\n",
    "for i in range (len(sentences)):\n",
    "    reveiw= re.sub('[^a-zA-Z]',' ', sentences[i])\n",
    "    reveiw= reveiw.lower()\n",
    "    reveiw= reveiw.split()\n",
    "    reveiw= [lemmatizer.lemmatize(word) for word in reveiw if word not in set(stopwords.words('english'))]\n",
    "    reveiw= ' '.join(reveiw)\n",
    "    corpus.append(reveiw)\n",
    "    \n",
    "    \n",
    "# print(corpus)\n",
    "\n",
    "\n",
    "from sklearn.feature_extraction.text import TfidfVectorizer\n",
    "cv= TfidfVectorizer()\n",
    "x= cv.fit_transform(corpus).toarray()\n",
    "print(x)    \n",
    "\n",
    "\n",
    "\n"
   ]
  },
  {
   "cell_type": "code",
   "execution_count": null,
   "id": "79aae94b",
   "metadata": {},
   "outputs": [],
   "source": []
  }
 ],
 "metadata": {
  "kernelspec": {
   "display_name": "Python 3 (ipykernel)",
   "language": "python",
   "name": "python3"
  },
  "language_info": {
   "codemirror_mode": {
    "name": "ipython",
    "version": 3
   },
   "file_extension": ".py",
   "mimetype": "text/x-python",
   "name": "python",
   "nbconvert_exporter": "python",
   "pygments_lexer": "ipython3",
   "version": "3.8.0"
  }
 },
 "nbformat": 4,
 "nbformat_minor": 5
}
